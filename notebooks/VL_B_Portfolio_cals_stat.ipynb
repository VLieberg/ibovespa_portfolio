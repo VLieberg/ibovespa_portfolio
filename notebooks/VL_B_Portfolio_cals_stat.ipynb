{
 "cells": [
  {
   "cell_type": "code",
   "execution_count": 1,
   "id": "c0e827a2",
   "metadata": {},
   "outputs": [
    {
     "data": {
      "text/html": [
       "        <script type=\"text/javascript\">\n",
       "        window.PlotlyConfig = {MathJaxConfig: 'local'};\n",
       "        if (window.MathJax) {MathJax.Hub.Config({SVG: {font: \"STIX-Web\"}});}\n",
       "        if (typeof require !== 'undefined') {\n",
       "        require.undef(\"plotly\");\n",
       "        requirejs.config({\n",
       "            paths: {\n",
       "                'plotly': ['https://cdn.plot.ly/plotly-2.8.3.min']\n",
       "            }\n",
       "        });\n",
       "        require(['plotly'], function(Plotly) {\n",
       "            window._Plotly = Plotly;\n",
       "        });\n",
       "        }\n",
       "        </script>\n",
       "        "
      ]
     },
     "metadata": {},
     "output_type": "display_data"
    },
    {
     "data": {
      "text/html": [
       "        <script type=\"text/javascript\">\n",
       "        window.PlotlyConfig = {MathJaxConfig: 'local'};\n",
       "        if (window.MathJax) {MathJax.Hub.Config({SVG: {font: \"STIX-Web\"}});}\n",
       "        if (typeof require !== 'undefined') {\n",
       "        require.undef(\"plotly\");\n",
       "        requirejs.config({\n",
       "            paths: {\n",
       "                'plotly': ['https://cdn.plot.ly/plotly-2.8.3.min']\n",
       "            }\n",
       "        });\n",
       "        require(['plotly'], function(Plotly) {\n",
       "            window._Plotly = Plotly;\n",
       "        });\n",
       "        }\n",
       "        </script>\n",
       "        "
      ]
     },
     "metadata": {},
     "output_type": "display_data"
    }
   ],
   "source": [
    "# Provides ways to work with large multidimensional arrays\n",
    "import numpy as np \n",
    "# Allows for further data manipulation and analysis\n",
    "import pandas as pd \n",
    "import matplotlib.pyplot as plt # Plotting\n",
    "import matplotlib.dates as mdates # Styling dates\n",
    "%matplotlib inline\n",
    "\n",
    "# pip install numpy\n",
    "# conda install -c anaconda pandas\n",
    "# conda install -c conda-forge matplotlib\n",
    "\n",
    "import datetime as dt # For defining dates\n",
    "\n",
    "import time\n",
    "\n",
    "# In Powershell Prompt : conda install -c conda-forge multitasking\n",
    "# pip install -i https://pypi.anaconda.org/ranaroussi/simple yfinance\n",
    "\n",
    "import yfinance as yf\n",
    "\n",
    "# To show all your output File -> Preferences -> Settings Search for Notebook\n",
    "# Notebook Output Text Line Limit and set to 100\n",
    "\n",
    "# Used for file handling like deleting files\n",
    "import os\n",
    "\n",
    "# conda install -c conda-forge cufflinks-py\n",
    "# conda install -c plotly plotly\n",
    "import cufflinks as cf\n",
    "import plotly.express as px\n",
    "import plotly.graph_objects as go\n",
    "\n",
    "# Make Plotly work in your Jupyter Notebook\n",
    "from plotly.offline import download_plotlyjs, init_notebook_mode, plot, iplot\n",
    "init_notebook_mode(connected=True)\n",
    "# Use Plotly locally\n",
    "cf.go_offline()\n",
    "\n",
    "from plotly.subplots import make_subplots\n",
    "\n",
    "# New Imports\n",
    "# Used to get data from a directory\n",
    "import os\n",
    "from os import listdir\n",
    "from os.path import isfile, join\n",
    "\n",
    "import warnings\n",
    "warnings.simplefilter(\"ignore\")"
   ]
  },
  {
   "cell_type": "markdown",
   "id": "3346ac77",
   "metadata": {},
   "source": [
    "**Constants**"
   ]
  },
  {
   "cell_type": "code",
   "execution_count": 2,
   "id": "369e8899",
   "metadata": {},
   "outputs": [],
   "source": [
    "# Save the stocks data downloaded\n",
    "PATH = '../raw_data/data_stocks/'\n",
    "# File with all the tickers to be downloaded\n",
    "tickers_path = '../raw_data/ibove_conso/all_tickers.csv'\n",
    "# Save stocks data modified\n",
    "path_folder = '../raw_data/stocks_analysis/'\n",
    "\n",
    "#Start end date defaults\n",
    "S_DATE = '2017-02-01'\n",
    "E_DATE = '2022-12-06'\n",
    "S_DATE_DT = pd.to_datetime(S_DATE)\n",
    "E_DATE_DT = pd.to_datetime(E_DATE)"
   ]
  },
  {
   "cell_type": "markdown",
   "id": "030f92b5",
   "metadata": {},
   "source": [
    "# Stocks Data Retrieve"
   ]
  },
  {
   "cell_type": "markdown",
   "id": "6edb860c",
   "metadata": {},
   "source": [
    "## Get Dataframe from CSV"
   ]
  },
  {
   "cell_type": "code",
   "execution_count": 3,
   "id": "d16ba0c9",
   "metadata": {},
   "outputs": [],
   "source": [
    "# Reads a dataframe from the CSV file, changes index to date and returns it\n",
    "def get_stock_df_from_csv(ticker):\n",
    "    \n",
    "    # Try to get the file and if it doesn't exist issue a warning\n",
    "    try:\n",
    "        df = pd.read_csv(PATH + ticker + '.csv', index_col=0)\n",
    "    except FileNotFoundError:\n",
    "        print(\"File Doesn't Exist\")\n",
    "    else:\n",
    "        return df"
   ]
  },
  {
   "cell_type": "markdown",
   "id": "d26bc995",
   "metadata": {},
   "source": [
    "## Get all Stocks Downloaded in List"
   ]
  },
  {
   "cell_type": "code",
   "execution_count": 5,
   "id": "1cea729b",
   "metadata": {},
   "outputs": [
    {
     "data": {
      "text/plain": [
       "93"
      ]
     },
     "execution_count": 5,
     "metadata": {},
     "output_type": "execute_result"
    }
   ],
   "source": [
    "files = [x for x in listdir(PATH) if isfile(join(PATH, x))]\n",
    "tickers = [os.path.splitext(x)[0] for x in files]\n",
    "tickers\n",
    "tickers.remove('.DS_Store') # MacOS Only\n",
    "tickers.sort()\n",
    "len(tickers)"
   ]
  },
  {
   "cell_type": "markdown",
   "id": "acecd7c7",
   "metadata": {},
   "source": [
    "# Finance Calcs: Daily returns, Cumulative Bollinger Bands & Ichimoku to Dataframes"
   ]
  },
  {
   "cell_type": "markdown",
   "id": "dde991fd",
   "metadata": {},
   "source": [
    "##  Add Daily Returns"
   ]
  },
  {
   "cell_type": "code",
   "execution_count": 6,
   "id": "1ae084db",
   "metadata": {},
   "outputs": [],
   "source": [
    "# Shift provides the value from the previous day\n",
    "# NaN is displayed because there was no previous day price for the 1st calculation\n",
    "def add_daily_return_to_df(df):\n",
    "    df['daily_return'] = (df['Close'] / df['Close'].shift(1)) - 1\n",
    "    # Save data to a CSV file\n",
    "    # df.to_csv(path_folder + ticker + '.csv')\n",
    "    return df "
   ]
  },
  {
   "cell_type": "markdown",
   "id": "6ddfc568",
   "metadata": {},
   "source": [
    "## Add Cumulative Returns"
   ]
  },
  {
   "cell_type": "code",
   "execution_count": 7,
   "id": "2e1f52ee",
   "metadata": {},
   "outputs": [],
   "source": [
    "def add_cum_return_to_df(df):\n",
    "    df['cum_return'] = (1 + df['daily_return']).cumprod()\n",
    "    # df.to_csv(path_folder + ticker + '.csv')\n",
    "    return df"
   ]
  },
  {
   "cell_type": "markdown",
   "id": "f4057882",
   "metadata": {},
   "source": [
    "## Add Bollinger Bands"
   ]
  },
  {
   "cell_type": "code",
   "execution_count": 8,
   "id": "2769b49c",
   "metadata": {},
   "outputs": [],
   "source": [
    "# Here we will add a middle band (20 days), upper band (20 days + 1.96 std),\n",
    "# and lower band (20 days - 1.96 std)\n",
    "def add_bollinger_bands(df):\n",
    "    df['middle_band'] = df['Close'].rolling(window=20).mean()\n",
    "    df['upper_band'] = df['middle_band'] + 1.96 * df['Close'].rolling(window=20).std()\n",
    "    df['lower_band'] = df['middle_band'] - 1.96 * df['Close'].rolling(window=20).std()\n",
    "    # df.to_csv(path_folder + ticker + '.csv')\n",
    "    return df"
   ]
  },
  {
   "cell_type": "markdown",
   "id": "0f9539c1",
   "metadata": {},
   "source": [
    "## Add Ichimoku Data to Dataframe"
   ]
  },
  {
   "cell_type": "code",
   "execution_count": 9,
   "id": "085e42d1",
   "metadata": {},
   "outputs": [],
   "source": [
    "def add_Ichimoku(df):\n",
    "    # Conversion = Represents support, resistance and reversals.\n",
    "    #Used to measure short term trends.\n",
    "    hi_val = df['High'].rolling(window=9).max()\n",
    "    low_val = df['Low'].rolling(window=9).min()\n",
    "    df['Conversion'] = (hi_val + low_val) / 2\n",
    "\n",
    "    # Baseline = (Highest Value in period + Lowest value in period)/2 (26 Sessions)\n",
    "    hi_val2 = df['High'].rolling(window=26).max()\n",
    "    low_val2 = df['Low'].rolling(window=26).min()\n",
    "    df['Baseline'] = (hi_val2 + low_val2) / 2\n",
    "\n",
    "    # Spans\n",
    "    # Span A = (Conversion Value + Base Value)/2 (26 Sessions)\n",
    "    df['SpanA'] = ((df['Conversion'] + df['Baseline']) / 2).shift(26)\n",
    "    \n",
    "    # Span B = (Conversion Value + Base Value)/2 (52 Sessions)\n",
    "    hi_val3 = df['High'].rolling(window=52).max()\n",
    "    low_val3 = df['Low'].rolling(window=52).min()\n",
    "    df['SpanB'] = ((hi_val3 + low_val3) / 2).shift(26)\n",
    "    \n",
    "    # Lagging Span = Price shifted back 26 periods\n",
    "    df['Lagging'] = df['Close'].shift(-26)\n",
    "\n",
    "    return df"
   ]
  },
  {
   "cell_type": "markdown",
   "id": "4ad84d51",
   "metadata": {},
   "source": [
    "## Test functions individually before running for the all the stocks"
   ]
  },
  {
   "cell_type": "code",
   "execution_count": 10,
   "id": "116d213d",
   "metadata": {},
   "outputs": [
    {
     "name": "stdout",
     "output_type": "stream",
     "text": [
      "Working on : WEGE3,SA\n"
     ]
    }
   ],
   "source": [
    "# It is always better to test your results using one stock\n",
    "try:\n",
    "    print(\"Working on :\", \"WEGE3,SA\")\n",
    "    new_df = get_stock_df_from_csv(\"WEGE3,SA\")\n",
    "    new_df = add_daily_return_to_df(new_df)\n",
    "    new_df = add_cum_return_to_df(new_df)\n",
    "    new_df = add_bollinger_bands(new_df)\n",
    "    new_df = add_Ichimoku(new_df)\n",
    "    new_df.to_csv(path_folder + 'WEGE3,SA' + '.csv')\n",
    "except Exception as ex:\n",
    "    print(ex)"
   ]
  },
  {
   "cell_type": "markdown",
   "id": "b346c729",
   "metadata": {},
   "source": [
    "##  Add Daily, Cumulative Bollinger Bands & Ichimoku to Dataframes"
   ]
  },
  {
   "cell_type": "code",
   "execution_count": 11,
   "id": "4e3f73e9",
   "metadata": {},
   "outputs": [
    {
     "name": "stdout",
     "output_type": "stream",
     "text": [
      "Working on : .csv\n",
      "File Doesn't Exist\n",
      "'NoneType' object is not subscriptable\n",
      "Working on : ABEV3,SA\n",
      "Working on : ALPA4,SA\n",
      "Working on : AMER3,SA\n",
      "Working on : ASAI3,SA\n",
      "Working on : AZUL4,SA\n",
      "Working on : B3SA3,SA\n",
      "Working on : BBAS3,SA\n",
      "Working on : BBDC3,SA\n",
      "Working on : BBDC4,SA\n",
      "Working on : BBSE3,SA\n",
      "Working on : BEEF3,SA\n",
      "Working on : BIDI11,SA\n",
      "Working on : BPAC11,SA\n",
      "Working on : BPAN4,SA\n",
      "Working on : BRAP4,SA\n",
      "Working on : BRFS3,SA\n",
      "Working on : BRKM5,SA\n",
      "Working on : BRML3,SA\n",
      "Working on : CASH3,SA\n",
      "Working on : CCRO3,SA\n",
      "Working on : CIEL3,SA\n",
      "Working on : CMIG4,SA\n",
      "Working on : CMIN3,SA\n",
      "Working on : COGN3,SA\n",
      "Working on : CPFE3,SA\n",
      "Working on : CPLE6,SA\n",
      "Working on : CRFB3,SA\n",
      "Working on : CSAN3,SA\n",
      "Working on : CSNA3,SA\n",
      "Working on : CVCB3,SA\n",
      "Working on : CYRE3,SA\n",
      "Working on : DXCO3,SA\n",
      "Working on : ECOR3,SA\n",
      "Working on : EGIE3,SA\n",
      "Working on : ELET3,SA\n",
      "Working on : ELET6,SA\n",
      "Working on : EMBR3,SA\n",
      "Working on : ENBR3,SA\n",
      "Working on : ENEV3,SA\n",
      "Working on : ENGI11,SA\n",
      "Working on : EQTL3,SA\n",
      "Working on : EZTC3,SA\n",
      "Working on : FLRY3,SA\n",
      "Working on : GGBR4,SA\n",
      "Working on : GOAU4,SA\n",
      "Working on : GOLL4,SA\n",
      "Working on : HAPV3,SA\n",
      "Working on : HYPE3,SA\n",
      "Working on : IGTI11,SA\n",
      "Working on : IRBR3,SA\n",
      "Working on : ITSA4,SA\n",
      "Working on : ITUB4,SA\n",
      "Working on : JBSS3,SA\n",
      "Working on : JHSF3,SA\n",
      "Working on : KLBN11,SA\n",
      "Working on : LCAM3,SA\n",
      "Working on : LREN3,SA\n",
      "Working on : LWSA3,SA\n",
      "Working on : MGLU3,SA\n",
      "Working on : MRFG3,SA\n",
      "Working on : MRVE3,SA\n",
      "Working on : MULT3,SA\n",
      "Working on : NTCO3,SA\n",
      "Working on : PCAR3,SA\n",
      "Working on : PETR3,SA\n",
      "Working on : PETR4,SA\n",
      "Working on : PETZ3,SA\n",
      "Working on : POSI3,SA\n",
      "Working on : PRIO3,SA\n",
      "Working on : QUAL3,SA\n",
      "Working on : RADL3,SA\n",
      "Working on : RAIL3,SA\n",
      "Working on : RDOR3,SA\n",
      "Working on : RENT3,SA\n",
      "Working on : RRRP3,SA\n",
      "Working on : SANB11,SA\n",
      "Working on : SBSP3,SA\n",
      "Working on : SLCE3,SA\n",
      "Working on : SOMA3,SA\n",
      "Working on : SULA11,SA\n",
      "Working on : SUZB3,SA\n",
      "Working on : TAEE11,SA\n",
      "Working on : TIMS3,SA\n",
      "Working on : TOTS3,SA\n",
      "Working on : UGPA3,SA\n",
      "Working on : USIM5,SA\n",
      "Working on : VALE3,SA\n",
      "Working on : VBBR3,SA\n",
      "Working on : VIIA3,SA\n",
      "Working on : VIVT3,SA\n",
      "Working on : WEGE3,SA\n",
      "Working on : YDUQ3,SA\n"
     ]
    }
   ],
   "source": [
    "for x in tickers:\n",
    "    try:\n",
    "        print(\"Working on :\", x)\n",
    "        new_df = get_stock_df_from_csv(x)\n",
    "        new_df = add_daily_return_to_df(new_df)\n",
    "        new_df = add_cum_return_to_df(new_df)\n",
    "        new_df = add_bollinger_bands(new_df)\n",
    "        new_df = add_Ichimoku(new_df)\n",
    "        new_df.to_csv(path_folder + x + '.csv')\n",
    "    except Exception as ex:\n",
    "        print(ex)"
   ]
  },
  {
   "cell_type": "code",
   "execution_count": null,
   "id": "1ad3b40a",
   "metadata": {},
   "outputs": [],
   "source": []
  },
  {
   "cell_type": "code",
   "execution_count": null,
   "id": "957d9b93",
   "metadata": {},
   "outputs": [],
   "source": []
  }
 ],
 "metadata": {
  "kernelspec": {
   "display_name": "Python 3 (ipykernel)",
   "language": "python",
   "name": "python3"
  },
  "language_info": {
   "codemirror_mode": {
    "name": "ipython",
    "version": 3
   },
   "file_extension": ".py",
   "mimetype": "text/x-python",
   "name": "python",
   "nbconvert_exporter": "python",
   "pygments_lexer": "ipython3",
   "version": "3.8.12"
  },
  "toc": {
   "base_numbering": 1,
   "nav_menu": {},
   "number_sections": true,
   "sideBar": true,
   "skip_h1_title": false,
   "title_cell": "Table of Contents",
   "title_sidebar": "Contents",
   "toc_cell": false,
   "toc_position": {},
   "toc_section_display": true,
   "toc_window_display": false
  }
 },
 "nbformat": 4,
 "nbformat_minor": 5
}
